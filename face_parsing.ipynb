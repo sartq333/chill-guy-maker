{
  "nbformat": 4,
  "nbformat_minor": 0,
  "metadata": {
    "colab": {
      "provenance": [],
      "gpuType": "T4"
    },
    "kernelspec": {
      "name": "python3",
      "display_name": "Python 3"
    },
    "language_info": {
      "name": "python"
    },
    "accelerator": "GPU",
    "widgets": {
      "application/vnd.jupyter.widget-state+json": {
        "68b1f94146194068bc01ede88009e7b8": {
          "model_module": "@jupyter-widgets/controls",
          "model_name": "HBoxModel",
          "model_module_version": "1.5.0",
          "state": {
            "_dom_classes": [],
            "_model_module": "@jupyter-widgets/controls",
            "_model_module_version": "1.5.0",
            "_model_name": "HBoxModel",
            "_view_count": null,
            "_view_module": "@jupyter-widgets/controls",
            "_view_module_version": "1.5.0",
            "_view_name": "HBoxView",
            "box_style": "",
            "children": [
              "IPY_MODEL_7c5b4d2e7ebd4234b960c73f7a757764",
              "IPY_MODEL_07cf5c12c396437ab71fef2da62bb99b",
              "IPY_MODEL_2a9912991b80485f8fff11e18f55ba5b"
            ],
            "layout": "IPY_MODEL_bbbe093b9f3c493a898e256f28c7078d"
          }
        },
        "7c5b4d2e7ebd4234b960c73f7a757764": {
          "model_module": "@jupyter-widgets/controls",
          "model_name": "HTMLModel",
          "model_module_version": "1.5.0",
          "state": {
            "_dom_classes": [],
            "_model_module": "@jupyter-widgets/controls",
            "_model_module_version": "1.5.0",
            "_model_name": "HTMLModel",
            "_view_count": null,
            "_view_module": "@jupyter-widgets/controls",
            "_view_module_version": "1.5.0",
            "_view_name": "HTMLView",
            "description": "",
            "description_tooltip": null,
            "layout": "IPY_MODEL_cdf16c9b4c254ec9aa07cb3534a55925",
            "placeholder": "​",
            "style": "IPY_MODEL_6ba910810c1047c7ba6f141a3a43aa1a",
            "value": "preprocessor_config.json: 100%"
          }
        },
        "07cf5c12c396437ab71fef2da62bb99b": {
          "model_module": "@jupyter-widgets/controls",
          "model_name": "FloatProgressModel",
          "model_module_version": "1.5.0",
          "state": {
            "_dom_classes": [],
            "_model_module": "@jupyter-widgets/controls",
            "_model_module_version": "1.5.0",
            "_model_name": "FloatProgressModel",
            "_view_count": null,
            "_view_module": "@jupyter-widgets/controls",
            "_view_module_version": "1.5.0",
            "_view_name": "ProgressView",
            "bar_style": "success",
            "description": "",
            "description_tooltip": null,
            "layout": "IPY_MODEL_d00b931d7dd04d759325b1cdd68c5b8d",
            "max": 374,
            "min": 0,
            "orientation": "horizontal",
            "style": "IPY_MODEL_102724e9767f4e6f9b8bfe5376a0f284",
            "value": 374
          }
        },
        "2a9912991b80485f8fff11e18f55ba5b": {
          "model_module": "@jupyter-widgets/controls",
          "model_name": "HTMLModel",
          "model_module_version": "1.5.0",
          "state": {
            "_dom_classes": [],
            "_model_module": "@jupyter-widgets/controls",
            "_model_module_version": "1.5.0",
            "_model_name": "HTMLModel",
            "_view_count": null,
            "_view_module": "@jupyter-widgets/controls",
            "_view_module_version": "1.5.0",
            "_view_name": "HTMLView",
            "description": "",
            "description_tooltip": null,
            "layout": "IPY_MODEL_2ffab05e380a4815933cbbb1d88381c8",
            "placeholder": "​",
            "style": "IPY_MODEL_f523bfb9f08c423f8baffa2befa4e939",
            "value": " 374/374 [00:00&lt;00:00, 6.57kB/s]"
          }
        },
        "bbbe093b9f3c493a898e256f28c7078d": {
          "model_module": "@jupyter-widgets/base",
          "model_name": "LayoutModel",
          "model_module_version": "1.2.0",
          "state": {
            "_model_module": "@jupyter-widgets/base",
            "_model_module_version": "1.2.0",
            "_model_name": "LayoutModel",
            "_view_count": null,
            "_view_module": "@jupyter-widgets/base",
            "_view_module_version": "1.2.0",
            "_view_name": "LayoutView",
            "align_content": null,
            "align_items": null,
            "align_self": null,
            "border": null,
            "bottom": null,
            "display": null,
            "flex": null,
            "flex_flow": null,
            "grid_area": null,
            "grid_auto_columns": null,
            "grid_auto_flow": null,
            "grid_auto_rows": null,
            "grid_column": null,
            "grid_gap": null,
            "grid_row": null,
            "grid_template_areas": null,
            "grid_template_columns": null,
            "grid_template_rows": null,
            "height": null,
            "justify_content": null,
            "justify_items": null,
            "left": null,
            "margin": null,
            "max_height": null,
            "max_width": null,
            "min_height": null,
            "min_width": null,
            "object_fit": null,
            "object_position": null,
            "order": null,
            "overflow": null,
            "overflow_x": null,
            "overflow_y": null,
            "padding": null,
            "right": null,
            "top": null,
            "visibility": null,
            "width": null
          }
        },
        "cdf16c9b4c254ec9aa07cb3534a55925": {
          "model_module": "@jupyter-widgets/base",
          "model_name": "LayoutModel",
          "model_module_version": "1.2.0",
          "state": {
            "_model_module": "@jupyter-widgets/base",
            "_model_module_version": "1.2.0",
            "_model_name": "LayoutModel",
            "_view_count": null,
            "_view_module": "@jupyter-widgets/base",
            "_view_module_version": "1.2.0",
            "_view_name": "LayoutView",
            "align_content": null,
            "align_items": null,
            "align_self": null,
            "border": null,
            "bottom": null,
            "display": null,
            "flex": null,
            "flex_flow": null,
            "grid_area": null,
            "grid_auto_columns": null,
            "grid_auto_flow": null,
            "grid_auto_rows": null,
            "grid_column": null,
            "grid_gap": null,
            "grid_row": null,
            "grid_template_areas": null,
            "grid_template_columns": null,
            "grid_template_rows": null,
            "height": null,
            "justify_content": null,
            "justify_items": null,
            "left": null,
            "margin": null,
            "max_height": null,
            "max_width": null,
            "min_height": null,
            "min_width": null,
            "object_fit": null,
            "object_position": null,
            "order": null,
            "overflow": null,
            "overflow_x": null,
            "overflow_y": null,
            "padding": null,
            "right": null,
            "top": null,
            "visibility": null,
            "width": null
          }
        },
        "6ba910810c1047c7ba6f141a3a43aa1a": {
          "model_module": "@jupyter-widgets/controls",
          "model_name": "DescriptionStyleModel",
          "model_module_version": "1.5.0",
          "state": {
            "_model_module": "@jupyter-widgets/controls",
            "_model_module_version": "1.5.0",
            "_model_name": "DescriptionStyleModel",
            "_view_count": null,
            "_view_module": "@jupyter-widgets/base",
            "_view_module_version": "1.2.0",
            "_view_name": "StyleView",
            "description_width": ""
          }
        },
        "d00b931d7dd04d759325b1cdd68c5b8d": {
          "model_module": "@jupyter-widgets/base",
          "model_name": "LayoutModel",
          "model_module_version": "1.2.0",
          "state": {
            "_model_module": "@jupyter-widgets/base",
            "_model_module_version": "1.2.0",
            "_model_name": "LayoutModel",
            "_view_count": null,
            "_view_module": "@jupyter-widgets/base",
            "_view_module_version": "1.2.0",
            "_view_name": "LayoutView",
            "align_content": null,
            "align_items": null,
            "align_self": null,
            "border": null,
            "bottom": null,
            "display": null,
            "flex": null,
            "flex_flow": null,
            "grid_area": null,
            "grid_auto_columns": null,
            "grid_auto_flow": null,
            "grid_auto_rows": null,
            "grid_column": null,
            "grid_gap": null,
            "grid_row": null,
            "grid_template_areas": null,
            "grid_template_columns": null,
            "grid_template_rows": null,
            "height": null,
            "justify_content": null,
            "justify_items": null,
            "left": null,
            "margin": null,
            "max_height": null,
            "max_width": null,
            "min_height": null,
            "min_width": null,
            "object_fit": null,
            "object_position": null,
            "order": null,
            "overflow": null,
            "overflow_x": null,
            "overflow_y": null,
            "padding": null,
            "right": null,
            "top": null,
            "visibility": null,
            "width": null
          }
        },
        "102724e9767f4e6f9b8bfe5376a0f284": {
          "model_module": "@jupyter-widgets/controls",
          "model_name": "ProgressStyleModel",
          "model_module_version": "1.5.0",
          "state": {
            "_model_module": "@jupyter-widgets/controls",
            "_model_module_version": "1.5.0",
            "_model_name": "ProgressStyleModel",
            "_view_count": null,
            "_view_module": "@jupyter-widgets/base",
            "_view_module_version": "1.2.0",
            "_view_name": "StyleView",
            "bar_color": null,
            "description_width": ""
          }
        },
        "2ffab05e380a4815933cbbb1d88381c8": {
          "model_module": "@jupyter-widgets/base",
          "model_name": "LayoutModel",
          "model_module_version": "1.2.0",
          "state": {
            "_model_module": "@jupyter-widgets/base",
            "_model_module_version": "1.2.0",
            "_model_name": "LayoutModel",
            "_view_count": null,
            "_view_module": "@jupyter-widgets/base",
            "_view_module_version": "1.2.0",
            "_view_name": "LayoutView",
            "align_content": null,
            "align_items": null,
            "align_self": null,
            "border": null,
            "bottom": null,
            "display": null,
            "flex": null,
            "flex_flow": null,
            "grid_area": null,
            "grid_auto_columns": null,
            "grid_auto_flow": null,
            "grid_auto_rows": null,
            "grid_column": null,
            "grid_gap": null,
            "grid_row": null,
            "grid_template_areas": null,
            "grid_template_columns": null,
            "grid_template_rows": null,
            "height": null,
            "justify_content": null,
            "justify_items": null,
            "left": null,
            "margin": null,
            "max_height": null,
            "max_width": null,
            "min_height": null,
            "min_width": null,
            "object_fit": null,
            "object_position": null,
            "order": null,
            "overflow": null,
            "overflow_x": null,
            "overflow_y": null,
            "padding": null,
            "right": null,
            "top": null,
            "visibility": null,
            "width": null
          }
        },
        "f523bfb9f08c423f8baffa2befa4e939": {
          "model_module": "@jupyter-widgets/controls",
          "model_name": "DescriptionStyleModel",
          "model_module_version": "1.5.0",
          "state": {
            "_model_module": "@jupyter-widgets/controls",
            "_model_module_version": "1.5.0",
            "_model_name": "DescriptionStyleModel",
            "_view_count": null,
            "_view_module": "@jupyter-widgets/base",
            "_view_module_version": "1.2.0",
            "_view_name": "StyleView",
            "description_width": ""
          }
        },
        "2cf6cce83ee3447ba7cc194dfae0bdc5": {
          "model_module": "@jupyter-widgets/controls",
          "model_name": "HBoxModel",
          "model_module_version": "1.5.0",
          "state": {
            "_dom_classes": [],
            "_model_module": "@jupyter-widgets/controls",
            "_model_module_version": "1.5.0",
            "_model_name": "HBoxModel",
            "_view_count": null,
            "_view_module": "@jupyter-widgets/controls",
            "_view_module_version": "1.5.0",
            "_view_name": "HBoxView",
            "box_style": "",
            "children": [
              "IPY_MODEL_9f136360e65a49deaf590e14017f833c",
              "IPY_MODEL_aa6488396e1e4df2ac935d2916419770",
              "IPY_MODEL_d727989f7c3f44378b80b10caa1ea927"
            ],
            "layout": "IPY_MODEL_7aa25f375cb24acc87af871dbf80df7d"
          }
        },
        "9f136360e65a49deaf590e14017f833c": {
          "model_module": "@jupyter-widgets/controls",
          "model_name": "HTMLModel",
          "model_module_version": "1.5.0",
          "state": {
            "_dom_classes": [],
            "_model_module": "@jupyter-widgets/controls",
            "_model_module_version": "1.5.0",
            "_model_name": "HTMLModel",
            "_view_count": null,
            "_view_module": "@jupyter-widgets/controls",
            "_view_module_version": "1.5.0",
            "_view_name": "HTMLView",
            "description": "",
            "description_tooltip": null,
            "layout": "IPY_MODEL_1abc56bfc076440fae9dcbc2977acf0d",
            "placeholder": "​",
            "style": "IPY_MODEL_385dc755930d4ab387ffe2f6d8d7943a",
            "value": "config.json: 100%"
          }
        },
        "aa6488396e1e4df2ac935d2916419770": {
          "model_module": "@jupyter-widgets/controls",
          "model_name": "FloatProgressModel",
          "model_module_version": "1.5.0",
          "state": {
            "_dom_classes": [],
            "_model_module": "@jupyter-widgets/controls",
            "_model_module_version": "1.5.0",
            "_model_name": "FloatProgressModel",
            "_view_count": null,
            "_view_module": "@jupyter-widgets/controls",
            "_view_module_version": "1.5.0",
            "_view_name": "ProgressView",
            "bar_style": "success",
            "description": "",
            "description_tooltip": null,
            "layout": "IPY_MODEL_be1b78dedd94498f9b47413d011b8061",
            "max": 1689,
            "min": 0,
            "orientation": "horizontal",
            "style": "IPY_MODEL_3b219da4050b47b2a92499a58400d53b",
            "value": 1689
          }
        },
        "d727989f7c3f44378b80b10caa1ea927": {
          "model_module": "@jupyter-widgets/controls",
          "model_name": "HTMLModel",
          "model_module_version": "1.5.0",
          "state": {
            "_dom_classes": [],
            "_model_module": "@jupyter-widgets/controls",
            "_model_module_version": "1.5.0",
            "_model_name": "HTMLModel",
            "_view_count": null,
            "_view_module": "@jupyter-widgets/controls",
            "_view_module_version": "1.5.0",
            "_view_name": "HTMLView",
            "description": "",
            "description_tooltip": null,
            "layout": "IPY_MODEL_b457a8ccca1d479db5e54ded1cb086f1",
            "placeholder": "​",
            "style": "IPY_MODEL_1b6a8ce7f142454e8ee31709f1497bf5",
            "value": " 1.69k/1.69k [00:00&lt;00:00, 30.0kB/s]"
          }
        },
        "7aa25f375cb24acc87af871dbf80df7d": {
          "model_module": "@jupyter-widgets/base",
          "model_name": "LayoutModel",
          "model_module_version": "1.2.0",
          "state": {
            "_model_module": "@jupyter-widgets/base",
            "_model_module_version": "1.2.0",
            "_model_name": "LayoutModel",
            "_view_count": null,
            "_view_module": "@jupyter-widgets/base",
            "_view_module_version": "1.2.0",
            "_view_name": "LayoutView",
            "align_content": null,
            "align_items": null,
            "align_self": null,
            "border": null,
            "bottom": null,
            "display": null,
            "flex": null,
            "flex_flow": null,
            "grid_area": null,
            "grid_auto_columns": null,
            "grid_auto_flow": null,
            "grid_auto_rows": null,
            "grid_column": null,
            "grid_gap": null,
            "grid_row": null,
            "grid_template_areas": null,
            "grid_template_columns": null,
            "grid_template_rows": null,
            "height": null,
            "justify_content": null,
            "justify_items": null,
            "left": null,
            "margin": null,
            "max_height": null,
            "max_width": null,
            "min_height": null,
            "min_width": null,
            "object_fit": null,
            "object_position": null,
            "order": null,
            "overflow": null,
            "overflow_x": null,
            "overflow_y": null,
            "padding": null,
            "right": null,
            "top": null,
            "visibility": null,
            "width": null
          }
        },
        "1abc56bfc076440fae9dcbc2977acf0d": {
          "model_module": "@jupyter-widgets/base",
          "model_name": "LayoutModel",
          "model_module_version": "1.2.0",
          "state": {
            "_model_module": "@jupyter-widgets/base",
            "_model_module_version": "1.2.0",
            "_model_name": "LayoutModel",
            "_view_count": null,
            "_view_module": "@jupyter-widgets/base",
            "_view_module_version": "1.2.0",
            "_view_name": "LayoutView",
            "align_content": null,
            "align_items": null,
            "align_self": null,
            "border": null,
            "bottom": null,
            "display": null,
            "flex": null,
            "flex_flow": null,
            "grid_area": null,
            "grid_auto_columns": null,
            "grid_auto_flow": null,
            "grid_auto_rows": null,
            "grid_column": null,
            "grid_gap": null,
            "grid_row": null,
            "grid_template_areas": null,
            "grid_template_columns": null,
            "grid_template_rows": null,
            "height": null,
            "justify_content": null,
            "justify_items": null,
            "left": null,
            "margin": null,
            "max_height": null,
            "max_width": null,
            "min_height": null,
            "min_width": null,
            "object_fit": null,
            "object_position": null,
            "order": null,
            "overflow": null,
            "overflow_x": null,
            "overflow_y": null,
            "padding": null,
            "right": null,
            "top": null,
            "visibility": null,
            "width": null
          }
        },
        "385dc755930d4ab387ffe2f6d8d7943a": {
          "model_module": "@jupyter-widgets/controls",
          "model_name": "DescriptionStyleModel",
          "model_module_version": "1.5.0",
          "state": {
            "_model_module": "@jupyter-widgets/controls",
            "_model_module_version": "1.5.0",
            "_model_name": "DescriptionStyleModel",
            "_view_count": null,
            "_view_module": "@jupyter-widgets/base",
            "_view_module_version": "1.2.0",
            "_view_name": "StyleView",
            "description_width": ""
          }
        },
        "be1b78dedd94498f9b47413d011b8061": {
          "model_module": "@jupyter-widgets/base",
          "model_name": "LayoutModel",
          "model_module_version": "1.2.0",
          "state": {
            "_model_module": "@jupyter-widgets/base",
            "_model_module_version": "1.2.0",
            "_model_name": "LayoutModel",
            "_view_count": null,
            "_view_module": "@jupyter-widgets/base",
            "_view_module_version": "1.2.0",
            "_view_name": "LayoutView",
            "align_content": null,
            "align_items": null,
            "align_self": null,
            "border": null,
            "bottom": null,
            "display": null,
            "flex": null,
            "flex_flow": null,
            "grid_area": null,
            "grid_auto_columns": null,
            "grid_auto_flow": null,
            "grid_auto_rows": null,
            "grid_column": null,
            "grid_gap": null,
            "grid_row": null,
            "grid_template_areas": null,
            "grid_template_columns": null,
            "grid_template_rows": null,
            "height": null,
            "justify_content": null,
            "justify_items": null,
            "left": null,
            "margin": null,
            "max_height": null,
            "max_width": null,
            "min_height": null,
            "min_width": null,
            "object_fit": null,
            "object_position": null,
            "order": null,
            "overflow": null,
            "overflow_x": null,
            "overflow_y": null,
            "padding": null,
            "right": null,
            "top": null,
            "visibility": null,
            "width": null
          }
        },
        "3b219da4050b47b2a92499a58400d53b": {
          "model_module": "@jupyter-widgets/controls",
          "model_name": "ProgressStyleModel",
          "model_module_version": "1.5.0",
          "state": {
            "_model_module": "@jupyter-widgets/controls",
            "_model_module_version": "1.5.0",
            "_model_name": "ProgressStyleModel",
            "_view_count": null,
            "_view_module": "@jupyter-widgets/base",
            "_view_module_version": "1.2.0",
            "_view_name": "StyleView",
            "bar_color": null,
            "description_width": ""
          }
        },
        "b457a8ccca1d479db5e54ded1cb086f1": {
          "model_module": "@jupyter-widgets/base",
          "model_name": "LayoutModel",
          "model_module_version": "1.2.0",
          "state": {
            "_model_module": "@jupyter-widgets/base",
            "_model_module_version": "1.2.0",
            "_model_name": "LayoutModel",
            "_view_count": null,
            "_view_module": "@jupyter-widgets/base",
            "_view_module_version": "1.2.0",
            "_view_name": "LayoutView",
            "align_content": null,
            "align_items": null,
            "align_self": null,
            "border": null,
            "bottom": null,
            "display": null,
            "flex": null,
            "flex_flow": null,
            "grid_area": null,
            "grid_auto_columns": null,
            "grid_auto_flow": null,
            "grid_auto_rows": null,
            "grid_column": null,
            "grid_gap": null,
            "grid_row": null,
            "grid_template_areas": null,
            "grid_template_columns": null,
            "grid_template_rows": null,
            "height": null,
            "justify_content": null,
            "justify_items": null,
            "left": null,
            "margin": null,
            "max_height": null,
            "max_width": null,
            "min_height": null,
            "min_width": null,
            "object_fit": null,
            "object_position": null,
            "order": null,
            "overflow": null,
            "overflow_x": null,
            "overflow_y": null,
            "padding": null,
            "right": null,
            "top": null,
            "visibility": null,
            "width": null
          }
        },
        "1b6a8ce7f142454e8ee31709f1497bf5": {
          "model_module": "@jupyter-widgets/controls",
          "model_name": "DescriptionStyleModel",
          "model_module_version": "1.5.0",
          "state": {
            "_model_module": "@jupyter-widgets/controls",
            "_model_module_version": "1.5.0",
            "_model_name": "DescriptionStyleModel",
            "_view_count": null,
            "_view_module": "@jupyter-widgets/base",
            "_view_module_version": "1.2.0",
            "_view_name": "StyleView",
            "description_width": ""
          }
        },
        "d07100a930b94132bc48cb967773af2b": {
          "model_module": "@jupyter-widgets/controls",
          "model_name": "HBoxModel",
          "model_module_version": "1.5.0",
          "state": {
            "_dom_classes": [],
            "_model_module": "@jupyter-widgets/controls",
            "_model_module_version": "1.5.0",
            "_model_name": "HBoxModel",
            "_view_count": null,
            "_view_module": "@jupyter-widgets/controls",
            "_view_module_version": "1.5.0",
            "_view_name": "HBoxView",
            "box_style": "",
            "children": [
              "IPY_MODEL_e9b0da69b11a4955af6800496c50e8e7",
              "IPY_MODEL_48294f06442640a3a8056253d7c33389",
              "IPY_MODEL_c6e098a80d4d4657a50a2c509e5ebf8a"
            ],
            "layout": "IPY_MODEL_ba5cdb180bcb43c096691b3d750e62fc"
          }
        },
        "e9b0da69b11a4955af6800496c50e8e7": {
          "model_module": "@jupyter-widgets/controls",
          "model_name": "HTMLModel",
          "model_module_version": "1.5.0",
          "state": {
            "_dom_classes": [],
            "_model_module": "@jupyter-widgets/controls",
            "_model_module_version": "1.5.0",
            "_model_name": "HTMLModel",
            "_view_count": null,
            "_view_module": "@jupyter-widgets/controls",
            "_view_module_version": "1.5.0",
            "_view_name": "HTMLView",
            "description": "",
            "description_tooltip": null,
            "layout": "IPY_MODEL_e24814942dc146d5a0a67983751d7ce9",
            "placeholder": "​",
            "style": "IPY_MODEL_9a3ceb54e87c4e84a775909f445669e3",
            "value": "model.safetensors: 100%"
          }
        },
        "48294f06442640a3a8056253d7c33389": {
          "model_module": "@jupyter-widgets/controls",
          "model_name": "FloatProgressModel",
          "model_module_version": "1.5.0",
          "state": {
            "_dom_classes": [],
            "_model_module": "@jupyter-widgets/controls",
            "_model_module_version": "1.5.0",
            "_model_name": "FloatProgressModel",
            "_view_count": null,
            "_view_module": "@jupyter-widgets/controls",
            "_view_module_version": "1.5.0",
            "_view_name": "ProgressView",
            "bar_style": "success",
            "description": "",
            "description_tooltip": null,
            "layout": "IPY_MODEL_765fece075bc4e0e9e40f9f854d8aa89",
            "max": 338580732,
            "min": 0,
            "orientation": "horizontal",
            "style": "IPY_MODEL_8543123df7de4dfe99e1ef00fc047a76",
            "value": 338580732
          }
        },
        "c6e098a80d4d4657a50a2c509e5ebf8a": {
          "model_module": "@jupyter-widgets/controls",
          "model_name": "HTMLModel",
          "model_module_version": "1.5.0",
          "state": {
            "_dom_classes": [],
            "_model_module": "@jupyter-widgets/controls",
            "_model_module_version": "1.5.0",
            "_model_name": "HTMLModel",
            "_view_count": null,
            "_view_module": "@jupyter-widgets/controls",
            "_view_module_version": "1.5.0",
            "_view_name": "HTMLView",
            "description": "",
            "description_tooltip": null,
            "layout": "IPY_MODEL_604ec1516e544265beb3d8d423144266",
            "placeholder": "​",
            "style": "IPY_MODEL_99b03b1321014f1c8bb4250a51381d45",
            "value": " 339M/339M [00:05&lt;00:00, 51.0MB/s]"
          }
        },
        "ba5cdb180bcb43c096691b3d750e62fc": {
          "model_module": "@jupyter-widgets/base",
          "model_name": "LayoutModel",
          "model_module_version": "1.2.0",
          "state": {
            "_model_module": "@jupyter-widgets/base",
            "_model_module_version": "1.2.0",
            "_model_name": "LayoutModel",
            "_view_count": null,
            "_view_module": "@jupyter-widgets/base",
            "_view_module_version": "1.2.0",
            "_view_name": "LayoutView",
            "align_content": null,
            "align_items": null,
            "align_self": null,
            "border": null,
            "bottom": null,
            "display": null,
            "flex": null,
            "flex_flow": null,
            "grid_area": null,
            "grid_auto_columns": null,
            "grid_auto_flow": null,
            "grid_auto_rows": null,
            "grid_column": null,
            "grid_gap": null,
            "grid_row": null,
            "grid_template_areas": null,
            "grid_template_columns": null,
            "grid_template_rows": null,
            "height": null,
            "justify_content": null,
            "justify_items": null,
            "left": null,
            "margin": null,
            "max_height": null,
            "max_width": null,
            "min_height": null,
            "min_width": null,
            "object_fit": null,
            "object_position": null,
            "order": null,
            "overflow": null,
            "overflow_x": null,
            "overflow_y": null,
            "padding": null,
            "right": null,
            "top": null,
            "visibility": null,
            "width": null
          }
        },
        "e24814942dc146d5a0a67983751d7ce9": {
          "model_module": "@jupyter-widgets/base",
          "model_name": "LayoutModel",
          "model_module_version": "1.2.0",
          "state": {
            "_model_module": "@jupyter-widgets/base",
            "_model_module_version": "1.2.0",
            "_model_name": "LayoutModel",
            "_view_count": null,
            "_view_module": "@jupyter-widgets/base",
            "_view_module_version": "1.2.0",
            "_view_name": "LayoutView",
            "align_content": null,
            "align_items": null,
            "align_self": null,
            "border": null,
            "bottom": null,
            "display": null,
            "flex": null,
            "flex_flow": null,
            "grid_area": null,
            "grid_auto_columns": null,
            "grid_auto_flow": null,
            "grid_auto_rows": null,
            "grid_column": null,
            "grid_gap": null,
            "grid_row": null,
            "grid_template_areas": null,
            "grid_template_columns": null,
            "grid_template_rows": null,
            "height": null,
            "justify_content": null,
            "justify_items": null,
            "left": null,
            "margin": null,
            "max_height": null,
            "max_width": null,
            "min_height": null,
            "min_width": null,
            "object_fit": null,
            "object_position": null,
            "order": null,
            "overflow": null,
            "overflow_x": null,
            "overflow_y": null,
            "padding": null,
            "right": null,
            "top": null,
            "visibility": null,
            "width": null
          }
        },
        "9a3ceb54e87c4e84a775909f445669e3": {
          "model_module": "@jupyter-widgets/controls",
          "model_name": "DescriptionStyleModel",
          "model_module_version": "1.5.0",
          "state": {
            "_model_module": "@jupyter-widgets/controls",
            "_model_module_version": "1.5.0",
            "_model_name": "DescriptionStyleModel",
            "_view_count": null,
            "_view_module": "@jupyter-widgets/base",
            "_view_module_version": "1.2.0",
            "_view_name": "StyleView",
            "description_width": ""
          }
        },
        "765fece075bc4e0e9e40f9f854d8aa89": {
          "model_module": "@jupyter-widgets/base",
          "model_name": "LayoutModel",
          "model_module_version": "1.2.0",
          "state": {
            "_model_module": "@jupyter-widgets/base",
            "_model_module_version": "1.2.0",
            "_model_name": "LayoutModel",
            "_view_count": null,
            "_view_module": "@jupyter-widgets/base",
            "_view_module_version": "1.2.0",
            "_view_name": "LayoutView",
            "align_content": null,
            "align_items": null,
            "align_self": null,
            "border": null,
            "bottom": null,
            "display": null,
            "flex": null,
            "flex_flow": null,
            "grid_area": null,
            "grid_auto_columns": null,
            "grid_auto_flow": null,
            "grid_auto_rows": null,
            "grid_column": null,
            "grid_gap": null,
            "grid_row": null,
            "grid_template_areas": null,
            "grid_template_columns": null,
            "grid_template_rows": null,
            "height": null,
            "justify_content": null,
            "justify_items": null,
            "left": null,
            "margin": null,
            "max_height": null,
            "max_width": null,
            "min_height": null,
            "min_width": null,
            "object_fit": null,
            "object_position": null,
            "order": null,
            "overflow": null,
            "overflow_x": null,
            "overflow_y": null,
            "padding": null,
            "right": null,
            "top": null,
            "visibility": null,
            "width": null
          }
        },
        "8543123df7de4dfe99e1ef00fc047a76": {
          "model_module": "@jupyter-widgets/controls",
          "model_name": "ProgressStyleModel",
          "model_module_version": "1.5.0",
          "state": {
            "_model_module": "@jupyter-widgets/controls",
            "_model_module_version": "1.5.0",
            "_model_name": "ProgressStyleModel",
            "_view_count": null,
            "_view_module": "@jupyter-widgets/base",
            "_view_module_version": "1.2.0",
            "_view_name": "StyleView",
            "bar_color": null,
            "description_width": ""
          }
        },
        "604ec1516e544265beb3d8d423144266": {
          "model_module": "@jupyter-widgets/base",
          "model_name": "LayoutModel",
          "model_module_version": "1.2.0",
          "state": {
            "_model_module": "@jupyter-widgets/base",
            "_model_module_version": "1.2.0",
            "_model_name": "LayoutModel",
            "_view_count": null,
            "_view_module": "@jupyter-widgets/base",
            "_view_module_version": "1.2.0",
            "_view_name": "LayoutView",
            "align_content": null,
            "align_items": null,
            "align_self": null,
            "border": null,
            "bottom": null,
            "display": null,
            "flex": null,
            "flex_flow": null,
            "grid_area": null,
            "grid_auto_columns": null,
            "grid_auto_flow": null,
            "grid_auto_rows": null,
            "grid_column": null,
            "grid_gap": null,
            "grid_row": null,
            "grid_template_areas": null,
            "grid_template_columns": null,
            "grid_template_rows": null,
            "height": null,
            "justify_content": null,
            "justify_items": null,
            "left": null,
            "margin": null,
            "max_height": null,
            "max_width": null,
            "min_height": null,
            "min_width": null,
            "object_fit": null,
            "object_position": null,
            "order": null,
            "overflow": null,
            "overflow_x": null,
            "overflow_y": null,
            "padding": null,
            "right": null,
            "top": null,
            "visibility": null,
            "width": null
          }
        },
        "99b03b1321014f1c8bb4250a51381d45": {
          "model_module": "@jupyter-widgets/controls",
          "model_name": "DescriptionStyleModel",
          "model_module_version": "1.5.0",
          "state": {
            "_model_module": "@jupyter-widgets/controls",
            "_model_module_version": "1.5.0",
            "_model_name": "DescriptionStyleModel",
            "_view_count": null,
            "_view_module": "@jupyter-widgets/base",
            "_view_module_version": "1.2.0",
            "_view_name": "StyleView",
            "description_width": ""
          }
        }
      }
    }
  },
  "cells": [
    {
      "cell_type": "markdown",
      "source": [
        "https://huggingface.co/jonathandinu/face-parsing\n",
        "\n",
        "id \tlabel \tnote\n",
        "0 \tbackground\n",
        "\n",
        "1 \tskin\n",
        "\n",
        "2 \tnose\n",
        "\n",
        "3 \teye_g \teyeglasses\n",
        "\n",
        "4 \tl_eye \tleft eye\n",
        "\n",
        "5 \tr_eye \tright eye\n",
        "\n",
        "6 \tl_brow \tleft eyebrow\n",
        "\n",
        "7 \tr_brow \tright eyebrow\n",
        "\n",
        "8 \tl_ear \tleft ear\n",
        "\n",
        "9 \tr_ear \tright ear\n",
        "\n",
        "10 \tmouth \tarea between lips\n",
        "\n",
        "11 \tu_lip \tupper lip\n",
        "\n",
        "12 \tl_lip \tlower lip\n",
        "\n",
        "13 \thair\n",
        "\n",
        "14 \that\n",
        "\n",
        "15 \tear_r \tearring\n",
        "\n",
        "16 \tneck_l \tnecklace\n",
        "\n",
        "17 \tneck\n",
        "\n",
        "18 \tcloth \tclothing"
      ],
      "metadata": {
        "id": "UEY9m37wtUfn"
      }
    },
    {
      "cell_type": "code",
      "source": [
        "!wget https://huggingface.co/jonathandinu/face-parsing/resolve/main/config.json"
      ],
      "metadata": {
        "colab": {
          "base_uri": "https://localhost:8080/"
        },
        "id": "SbjDLTQWtsxG",
        "outputId": "2be22470-f04f-4754-a247-8580d467b38e"
      },
      "execution_count": 1,
      "outputs": [
        {
          "output_type": "stream",
          "name": "stdout",
          "text": [
            "--2024-12-11 06:13:36--  https://huggingface.co/jonathandinu/face-parsing/resolve/main/config.json\n",
            "Resolving huggingface.co (huggingface.co)... 3.167.192.123, 3.167.192.4, 3.167.192.19, ...\n",
            "Connecting to huggingface.co (huggingface.co)|3.167.192.123|:443... connected.\n",
            "HTTP request sent, awaiting response... 200 OK\n",
            "Length: 1689 (1.6K) [text/plain]\n",
            "Saving to: ‘config.json’\n",
            "\n",
            "\rconfig.json           0%[                    ]       0  --.-KB/s               \rconfig.json         100%[===================>]   1.65K  --.-KB/s    in 0s      \n",
            "\n",
            "2024-12-11 06:13:36 (629 MB/s) - ‘config.json’ saved [1689/1689]\n",
            "\n"
          ]
        }
      ]
    },
    {
      "cell_type": "code",
      "execution_count": 86,
      "metadata": {
        "id": "I1ewOLdEnuHl"
      },
      "outputs": [],
      "source": [
        "import numpy as np\n",
        "import json\n",
        "import torch\n",
        "from transformers import SegformerImageProcessor, SegformerForSemanticSegmentation\n",
        "from PIL import Image\n",
        "from PIL import ImageOps\n",
        "import matplotlib.pyplot as plt"
      ]
    },
    {
      "cell_type": "code",
      "source": [
        "with open('/content/config.json', 'r') as file:\n",
        "    data = json.load(file)\n",
        "\n",
        "for key, value in data[\"id2label\"].items():\n",
        "    print(f\"{key}: {value}\")"
      ],
      "metadata": {
        "colab": {
          "base_uri": "https://localhost:8080/"
        },
        "id": "unixct45t4H3",
        "outputId": "87548c40-9044-4636-f60f-9889bfb9a429"
      },
      "execution_count": 3,
      "outputs": [
        {
          "output_type": "stream",
          "name": "stdout",
          "text": [
            "0: background\n",
            "1: skin\n",
            "2: nose\n",
            "3: eye_g\n",
            "4: l_eye\n",
            "5: r_eye\n",
            "6: l_brow\n",
            "7: r_brow\n",
            "8: l_ear\n",
            "9: r_ear\n",
            "10: mouth\n",
            "11: u_lip\n",
            "12: l_lip\n",
            "13: hair\n",
            "14: hat\n",
            "15: ear_r\n",
            "16: neck_l\n",
            "17: neck\n",
            "18: cloth\n"
          ]
        }
      ]
    },
    {
      "cell_type": "code",
      "source": [
        "image_processor = SegformerImageProcessor.from_pretrained(\"jonathandinu/face-parsing\")\n",
        "model = SegformerForSemanticSegmentation.from_pretrained(\"jonathandinu/face-parsing\")"
      ],
      "metadata": {
        "colab": {
          "base_uri": "https://localhost:8080/",
          "height": 237,
          "referenced_widgets": [
            "68b1f94146194068bc01ede88009e7b8",
            "7c5b4d2e7ebd4234b960c73f7a757764",
            "07cf5c12c396437ab71fef2da62bb99b",
            "2a9912991b80485f8fff11e18f55ba5b",
            "bbbe093b9f3c493a898e256f28c7078d",
            "cdf16c9b4c254ec9aa07cb3534a55925",
            "6ba910810c1047c7ba6f141a3a43aa1a",
            "d00b931d7dd04d759325b1cdd68c5b8d",
            "102724e9767f4e6f9b8bfe5376a0f284",
            "2ffab05e380a4815933cbbb1d88381c8",
            "f523bfb9f08c423f8baffa2befa4e939",
            "2cf6cce83ee3447ba7cc194dfae0bdc5",
            "9f136360e65a49deaf590e14017f833c",
            "aa6488396e1e4df2ac935d2916419770",
            "d727989f7c3f44378b80b10caa1ea927",
            "7aa25f375cb24acc87af871dbf80df7d",
            "1abc56bfc076440fae9dcbc2977acf0d",
            "385dc755930d4ab387ffe2f6d8d7943a",
            "be1b78dedd94498f9b47413d011b8061",
            "3b219da4050b47b2a92499a58400d53b",
            "b457a8ccca1d479db5e54ded1cb086f1",
            "1b6a8ce7f142454e8ee31709f1497bf5",
            "d07100a930b94132bc48cb967773af2b",
            "e9b0da69b11a4955af6800496c50e8e7",
            "48294f06442640a3a8056253d7c33389",
            "c6e098a80d4d4657a50a2c509e5ebf8a",
            "ba5cdb180bcb43c096691b3d750e62fc",
            "e24814942dc146d5a0a67983751d7ce9",
            "9a3ceb54e87c4e84a775909f445669e3",
            "765fece075bc4e0e9e40f9f854d8aa89",
            "8543123df7de4dfe99e1ef00fc047a76",
            "604ec1516e544265beb3d8d423144266",
            "99b03b1321014f1c8bb4250a51381d45"
          ]
        },
        "id": "dzR-GjUioER7",
        "outputId": "e5840ec7-1d79-4506-fd0e-f880e882b816"
      },
      "execution_count": 4,
      "outputs": [
        {
          "output_type": "stream",
          "name": "stderr",
          "text": [
            "/usr/local/lib/python3.10/dist-packages/huggingface_hub/utils/_auth.py:94: UserWarning: \n",
            "The secret `HF_TOKEN` does not exist in your Colab secrets.\n",
            "To authenticate with the Hugging Face Hub, create a token in your settings tab (https://huggingface.co/settings/tokens), set it as secret in your Google Colab and restart your session.\n",
            "You will be able to reuse this secret in all of your notebooks.\n",
            "Please note that authentication is recommended but still optional to access public models or datasets.\n",
            "  warnings.warn(\n"
          ]
        },
        {
          "output_type": "display_data",
          "data": {
            "text/plain": [
              "preprocessor_config.json:   0%|          | 0.00/374 [00:00<?, ?B/s]"
            ],
            "application/vnd.jupyter.widget-view+json": {
              "version_major": 2,
              "version_minor": 0,
              "model_id": "68b1f94146194068bc01ede88009e7b8"
            }
          },
          "metadata": {}
        },
        {
          "output_type": "display_data",
          "data": {
            "text/plain": [
              "config.json:   0%|          | 0.00/1.69k [00:00<?, ?B/s]"
            ],
            "application/vnd.jupyter.widget-view+json": {
              "version_major": 2,
              "version_minor": 0,
              "model_id": "2cf6cce83ee3447ba7cc194dfae0bdc5"
            }
          },
          "metadata": {}
        },
        {
          "output_type": "display_data",
          "data": {
            "text/plain": [
              "model.safetensors:   0%|          | 0.00/339M [00:00<?, ?B/s]"
            ],
            "application/vnd.jupyter.widget-view+json": {
              "version_major": 2,
              "version_minor": 0,
              "model_id": "d07100a930b94132bc48cb967773af2b"
            }
          },
          "metadata": {}
        }
      ]
    },
    {
      "cell_type": "code",
      "source": [
        "input_img_path = \"/content/akshay kumar img.jpeg\"\n",
        "image = Image.open(input_img_path)\n",
        "image = image.convert(\"RGB\")\n",
        "\n",
        "# new_size = (128, 128)\n",
        "# image = image.resize(new_size)\n",
        "# plt.imshow(image)\n",
        "# plt.axis(\"off\")\n",
        "# plt.show()"
      ],
      "metadata": {
        "id": "HhGp_3esoHiL"
      },
      "execution_count": 70,
      "outputs": []
    },
    {
      "cell_type": "code",
      "source": [
        "inputs = image_processor(images=image, return_tensors=\"pt\")\n",
        "outputs = model(**inputs)"
      ],
      "metadata": {
        "id": "S0HOOA6gph7-"
      },
      "execution_count": 71,
      "outputs": []
    },
    {
      "cell_type": "code",
      "source": [
        "color_map = np.array([\n",
        "    [255, 255, 255],  # 0 background\n",
        "    [255, 0, 0],      # 1 skin\n",
        "    [0, 255, 0],      # 2 nose\n",
        "    [0, 0, 255],      # 3 eye_g\n",
        "    [255, 255, 0],    # 4 l_eye\n",
        "    [255, 0, 255],    # 5 r_eye\n",
        "    [0, 255, 255],    # 6 l_brow\n",
        "    [192, 192, 192],  # 7 r_brow\n",
        "    [128, 128, 128],  # 8 l_ear\n",
        "    [128, 0, 0],      # 9 r_ear\n",
        "    [128, 128, 0],    # 10 mouth\n",
        "    [0, 128, 0],      # 11 u_lip\n",
        "    [0, 128, 128],    # 12 l_lip\n",
        "    [0, 0, 128],      # 13 hair\n",
        "    [255, 165, 0],    # 14 hat\n",
        "    [75, 0, 130],     # 15 ear_r\n",
        "    [240, 230, 140],  # 16 neck_l\n",
        "    [255, 20, 147],   # 17 neck\n",
        "    [100, 149, 237]   # 18 cloth\n",
        "])"
      ],
      "metadata": {
        "id": "IFMGyPIWqIuD"
      },
      "execution_count": 72,
      "outputs": []
    },
    {
      "cell_type": "code",
      "source": [
        "predicted_classes = torch.argmax(outputs[\"logits\"], dim=1).squeeze().cpu().numpy()\n",
        "segmentation_map = color_map[predicted_classes]"
      ],
      "metadata": {
        "id": "xwWyREoMp9YM"
      },
      "execution_count": 73,
      "outputs": []
    },
    {
      "cell_type": "code",
      "source": [
        "outputs[\"logits\"] = outputs[\"logits\"].squeeze()\n",
        "outputs[\"logits\"].shape"
      ],
      "metadata": {
        "colab": {
          "base_uri": "https://localhost:8080/"
        },
        "id": "5b3WM0KbxDtN",
        "outputId": "5d9cae60-8e47-4e53-a7fc-bdfdede02a62"
      },
      "execution_count": 74,
      "outputs": [
        {
          "output_type": "execute_result",
          "data": {
            "text/plain": [
              "torch.Size([19, 128, 128])"
            ]
          },
          "metadata": {},
          "execution_count": 74
        }
      ]
    },
    {
      "cell_type": "code",
      "source": [
        "img = np.array(image)\n",
        "print(img.shape)\n",
        "print(segmentation_map.shape)"
      ],
      "metadata": {
        "colab": {
          "base_uri": "https://localhost:8080/"
        },
        "id": "L2cSuhpRqyH-",
        "outputId": "fb44e28e-a48d-4d73-a575-4f62a04579bf"
      },
      "execution_count": 75,
      "outputs": [
        {
          "output_type": "stream",
          "name": "stdout",
          "text": [
            "(252, 200, 3)\n",
            "(128, 128, 3)\n"
          ]
        }
      ]
    },
    {
      "cell_type": "code",
      "source": [
        "face_mask = outputs[\"logits\"][1]\n",
        "print(face_mask)"
      ],
      "metadata": {
        "colab": {
          "base_uri": "https://localhost:8080/"
        },
        "id": "-Y_mNvC6xWUK",
        "outputId": "e3a6b56b-3b41-42fe-df9c-c07689899dfa"
      },
      "execution_count": 76,
      "outputs": [
        {
          "output_type": "stream",
          "name": "stdout",
          "text": [
            "tensor([[ -4.9126,  -5.0906,  -5.2899,  ..., -10.7853, -10.9139, -11.2063],\n",
            "        [ -4.8703,  -5.0792,  -5.2818,  ..., -10.8355, -11.0369, -11.3779],\n",
            "        [ -5.0126,  -5.2082,  -5.5408,  ..., -10.8131, -10.9926, -11.3489],\n",
            "        ...,\n",
            "        [ -5.9765,  -5.3871,  -4.9867,  ...,  -8.7113,  -8.8029,  -9.1352],\n",
            "        [ -5.4409,  -5.7173,  -5.6725,  ...,  -8.6640,  -8.7515,  -8.9178],\n",
            "        [ -5.7304,  -6.0537,  -6.0109,  ...,  -8.4783,  -8.5819,  -8.8381]],\n",
            "       grad_fn=<SelectBackward0>)\n"
          ]
        }
      ]
    },
    {
      "cell_type": "code",
      "source": [
        "# plt.figure(figsize=(15, 7))\n",
        "# plt.subplot(1, 2, 1)\n",
        "# plt.title(\"Original Image\")\n",
        "# plt.imshow(image)\n",
        "# plt.axis('off')\n",
        "\n",
        "# plt.subplot(1, 2, 2)\n",
        "# plt.title(\"Predicted Segmentation Map\")\n",
        "# plt.imshow(segmentation_map)\n",
        "# plt.axis('off')\n",
        "\n",
        "# plt.show()"
      ],
      "metadata": {
        "id": "2Ac9xTDjoMOk"
      },
      "execution_count": 77,
      "outputs": []
    },
    {
      "cell_type": "code",
      "source": [
        "new_size = (128, 128)\n",
        "image = image.resize(new_size)\n",
        "original_image_np = np.array(image)\n",
        "segmented_image_np = np.array(segmentation_map)\n",
        "\n",
        "skin_color = [255, 0, 0]\n",
        "eyeg_color = [0, 0, 255]\n",
        "nose_color = [0, 255, 0]\n",
        "leye_color = [255, 255, 0]\n",
        "reye_color = [255, 0, 255]\n",
        "lbrow_color = [0, 255, 255]\n",
        "rbrow_color = [192, 192, 192]\n",
        "lear_color = [128, 128, 128]\n",
        "rear_color = [128, 0, 0]\n",
        "mouth_color = [128, 128, 0]\n",
        "ulip_color = [0, 128, 0]\n",
        "llip_color = [0, 128, 128]\n",
        "hair_color = [0, 0, 128]\n",
        "hat_color = [255, 165, 0]\n",
        "neck_color = [255, 20, 147]\n",
        "\n",
        "skin_mask = np.all(segmented_image_np == skin_color, axis=-1)\n",
        "eyeg_mask = np.all(segmented_image_np == eyeg_color, axis=-1)\n",
        "nose_mask = np.all(segmented_image_np == nose_color, axis=-1)\n",
        "leye_mask = np.all(segmented_image_np == leye_color, axis=-1)\n",
        "reye_mask = np.all(segmented_image_np == reye_color, axis=-1)\n",
        "lbrow_mask = np.all(segmented_image_np == lbrow_color, axis=-1)\n",
        "rbrow_mask = np.all(segmented_image_np == rbrow_color, axis=-1)\n",
        "lear_mask = np.all(segmented_image_np == lear_color, axis=-1)\n",
        "rear_mask = np.all(segmented_image_np == rear_color, axis=-1)\n",
        "mouth_mask = np.all(segmented_image_np == mouth_color, axis=-1)\n",
        "ulip_mask = np.all(segmented_image_np == ulip_color, axis=-1)\n",
        "llip_mask = np.all(segmented_image_np == llip_color, axis=-1)\n",
        "hair_mask = np.all(segmented_image_np == hair_color, axis=-1)\n",
        "hat_mask = np.all(segmented_image_np == hat_color, axis=-1)\n",
        "neck_mask = np.all(segmented_image_np == neck_color, axis=-1)\n",
        "\n",
        "# Combine all masks\n",
        "combined_mask = np.logical_or.reduce((\n",
        "    skin_mask, eyeg_mask, nose_mask, leye_mask, reye_mask,\n",
        "    lbrow_mask, rbrow_mask, lear_mask, rear_mask,\n",
        "    mouth_mask, ulip_mask, llip_mask, hair_mask,\n",
        "    hat_mask, neck_mask\n",
        "))\n",
        "\n",
        "# Apply the combined mask to the original image\n",
        "# selected_regions = np.zeros_like(original_image_np)\n",
        "selected_regions = np.full_like(original_image_np, 255)\n",
        "\n",
        "selected_regions[combined_mask] = original_image_np[combined_mask]\n",
        "\n",
        "# # Visualize the results\n",
        "# plt.figure(figsize=(15, 5))\n",
        "\n",
        "# # Display the original image\n",
        "# plt.subplot(1, 3, 1)\n",
        "# plt.imshow(image)\n",
        "# plt.title(\"Original Image\")\n",
        "# plt.axis(\"off\")\n",
        "\n",
        "# # Display the segmented image\n",
        "# plt.subplot(1, 3, 2)\n",
        "# plt.imshow(segmentation_map)\n",
        "# plt.title(\"Segmented Image\")\n",
        "# plt.axis(\"off\")\n",
        "\n",
        "# # Display the extracted regions\n",
        "# plt.subplot(1, 3, 3)\n",
        "# plt.imshow(Image.fromarray(selected_regions))\n",
        "# plt.title(\"Selected Regions\")\n",
        "# plt.axis(\"off\")\n",
        "\n",
        "# plt.tight_layout()\n",
        "# plt.show()"
      ],
      "metadata": {
        "id": "1d0yuiiRyo-o"
      },
      "execution_count": 78,
      "outputs": []
    },
    {
      "cell_type": "code",
      "source": [
        "selected_regions = Image.fromarray(selected_regions)\n",
        "selected_regions.save(\"only_face.jpg\")"
      ],
      "metadata": {
        "id": "qQHarIij3vmy"
      },
      "execution_count": 79,
      "outputs": []
    },
    {
      "cell_type": "markdown",
      "source": [
        "challenges as of now:\n",
        "1. meme face image is not eradicated (manually remove this). (done!)\n",
        "2. note down the width of the neck of meme image and make adjustements accordingly so that the target face gets fixed on the meme image. (pending)\n",
        "3. background in the person's image is black, which is messing up with hair, fix that."
      ],
      "metadata": {
        "id": "8bKuztdC-fiW"
      }
    },
    {
      "cell_type": "code",
      "source": [
        "person_image = Image.open('/content/only_face.jpg')\n",
        "meme_image = Image.open('/content/chillguy.jpeg')\n",
        "\n",
        "# Convert meme image to RGBA (for transparency handling) and to a NumPy array\n",
        "meme_image = meme_image.convert(\"RGBA\")\n",
        "meme_data = np.array(meme_image)\n",
        "\n",
        "# Define the coordinates of the face region in the meme image\n",
        "face_x, face_y, face_width, face_height = 0, 40, 180, 110  # Adjust based on meme image\n",
        "\n",
        "# Clamp the face region to ensure it is within bounds\n",
        "meme_height, meme_width = meme_data.shape[:2]\n",
        "face_width = min(face_width, meme_width - face_x)\n",
        "face_height = min(face_height, meme_height - face_y)\n",
        "\n",
        "# Resize the person's image to fit the face region\n",
        "person_resized = person_image.resize((face_width, face_height)).convert(\"RGBA\")\n",
        "\n",
        "person_resized = ImageOps.mirror(person_resized)\n",
        "\n",
        "person_data = np.array(person_resized)\n",
        "\n",
        "r, g, b, a = person_data[..., 0], person_data[..., 1], person_data[..., 2], person_data[..., 3]\n",
        "white_areas = (r > 230) & (g > 230) & (b > 230)\n",
        "person_data[white_areas, 3] = 0\n",
        "\n",
        "person_resized = Image.fromarray(person_data)\n",
        "\n",
        "face_region = meme_data[face_y:face_y+face_height, face_x:face_x+face_width]\n",
        "\n",
        "face_region_resized = Image.fromarray(face_region).resize((face_width, face_height))\n",
        "\n",
        "blended_region = Image.alpha_composite(face_region_resized, person_resized)\n",
        "\n",
        "blended_region_data = np.array(blended_region)\n",
        "meme_data[face_y:face_y+face_height, face_x:face_x+face_width] = blended_region_data\n",
        "\n",
        "result_image = Image.fromarray(meme_data)\n",
        "\n",
        "plt.imshow(result_image)\n",
        "plt.axis(\"off\")\n",
        "plt.show()"
      ],
      "metadata": {
        "colab": {
          "base_uri": "https://localhost:8080/",
          "height": 426
        },
        "id": "9K0Xv0EJAPPB",
        "outputId": "8727e892-1809-4969-fbc0-ae7ff4e53fb9"
      },
      "execution_count": 96,
      "outputs": [
        {
          "output_type": "display_data",
          "data": {
            "text/plain": [
              "<Figure size 640x480 with 1 Axes>"
            ],
            "image/png": "[encoded data removed]"
          },
          "metadata": {}
        }
      ]
    },
    {
      "cell_type": "code",
      "source": [
        "meme_image = np.array(meme_image)\n",
        "print(meme_image.shape)\n",
        "result_image = np.array(result_image)\n",
        "print(result_image.shape)"
      ],
      "metadata": {
        "colab": {
          "base_uri": "https://localhost:8080/"
        },
        "id": "GFNtTXHYaO0W",
        "outputId": "0b0214ae-e237-4a29-9ef5-78d7c57d65de"
      },
      "execution_count": 81,
      "outputs": [
        {
          "output_type": "stream",
          "name": "stdout",
          "text": [
            "(235, 214, 4)\n",
            "(235, 214, 4)\n"
          ]
        }
      ]
    },
    {
      "cell_type": "code",
      "source": [
        "# coordinates:\n",
        "#left corner (82, 116)\n",
        "#right corner (132, 114)"
      ],
      "metadata": {
        "id": "r-SDxMgva-pK"
      },
      "execution_count": 82,
      "outputs": []
    }
  ]
}